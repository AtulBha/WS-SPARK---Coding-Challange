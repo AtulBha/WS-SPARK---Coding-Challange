{
  "nbformat": 4,
  "nbformat_minor": 0,
  "metadata": {
    "colab": {
      "name": "EQWorks.ipynb",
      "provenance": [],
      "collapsed_sections": [],
      "authorship_tag": "ABX9TyPWb36kZIPIpu8gigLUvOOK",
      "include_colab_link": true
    },
    "kernelspec": {
      "name": "python3",
      "display_name": "Python 3"
    },
    "language_info": {
      "name": "python"
    }
  },
  "cells": [
    {
      "cell_type": "markdown",
      "metadata": {
        "id": "view-in-github",
        "colab_type": "text"
      },
      "source": [
        "<a href=\"https://colab.research.google.com/github/AtulBha/WS-SPARK---Coding-Challange/blob/main/Solution.ipynb\" target=\"_parent\"><img src=\"https://colab.research.google.com/assets/colab-badge.svg\" alt=\"Open In Colab\"/></a>"
      ]
    },
    {
      "cell_type": "code",
      "metadata": {
        "id": "MCQsNbafzKiZ"
      },
      "source": [
        "#!pip install geopandas"
      ],
      "execution_count": 1,
      "outputs": []
    },
    {
      "cell_type": "code",
      "metadata": {
        "id": "lh5NCoc8fsSO"
      },
      "source": [
        "!apt-get install openjdk-8-jdk-headless -qq > /dev/null\n",
        "!wget -q https://downloads.apache.org/spark/spark-3.1.1/spark-3.1.1-bin-hadoop3.2.tgz\n",
        "!tar xf spark-3.1.1-bin-hadoop3.2.tgz\n",
        "!pip install -q findspark"
      ],
      "execution_count": 2,
      "outputs": []
    },
    {
      "cell_type": "code",
      "metadata": {
        "id": "DXOxiSKHWKrm"
      },
      "source": [
        "import os\n",
        "os.environ[\"JAVA_HOME\"] = \"/usr/lib/jvm/java-8-openjdk-amd64\"\n",
        "os.environ[\"SPARK_HOME\"] = \"/content/spark-3.1.1-bin-hadoop3.2\""
      ],
      "execution_count": 3,
      "outputs": []
    },
    {
      "cell_type": "code",
      "metadata": {
        "id": "E7jD7p_VVs2Q"
      },
      "source": [
        "import findspark\n",
        "findspark.init()"
      ],
      "execution_count": 4,
      "outputs": []
    },
    {
      "cell_type": "code",
      "metadata": {
        "id": "zuiZGkxqbB8f"
      },
      "source": [
        "from pyspark.sql import SparkSession\n",
        "from pyspark import SparkFiles\n",
        "\n",
        "spark = SparkSession.builder.master('local').getOrCreate()\n",
        "\n",
        "url = \"https://raw.githubusercontent.com/EQWorks/ws-data-spark/master/data/DataSample.csv\"\n",
        "url2 = \"https://raw.githubusercontent.com/EQWorks/ws-data-spark/master/data/POIList.csv\"\n",
        "spark.sparkContext.addFile(url)\n",
        "spark.sparkContext.addFile(url2)\n",
        "\n",
        "\n",
        "df = spark.read.csv(SparkFiles.get(\"DataSample.csv\"), header=True, inferSchema= True)\n",
        "poi = spark.read.csv(SparkFiles.get(\"POIList.csv\"), header=True, inferSchema= True)\n",
        "poi_df = poi.toPandas()"
      ],
      "execution_count": 5,
      "outputs": []
    },
    {
      "cell_type": "code",
      "metadata": {
        "colab": {
          "base_uri": "https://localhost:8080/"
        },
        "id": "XvZvu9-HbW08",
        "outputId": "aa1f3a27-c072-42d1-8e66-c5b897f59d1b"
      },
      "source": [
        "df.printSchema()"
      ],
      "execution_count": 6,
      "outputs": [
        {
          "output_type": "stream",
          "text": [
            "root\n",
            " |-- _ID: integer (nullable = true)\n",
            " |--  TimeSt: string (nullable = true)\n",
            " |-- Country: string (nullable = true)\n",
            " |-- Province: string (nullable = true)\n",
            " |-- City: string (nullable = true)\n",
            " |-- Latitude: double (nullable = true)\n",
            " |-- Longitude: double (nullable = true)\n",
            "\n"
          ],
          "name": "stdout"
        }
      ]
    },
    {
      "cell_type": "code",
      "metadata": {
        "colab": {
          "base_uri": "https://localhost:8080/",
          "height": 50
        },
        "id": "HB4tXEVxeqrX",
        "outputId": "e211d4cc-42d1-47ee-ded3-aca075351fb5"
      },
      "source": [
        "display(df.columns)\n",
        "df = df.withColumnRenamed(' TimeSt', 'TimeSt')\n",
        "display(df.columns)"
      ],
      "execution_count": 7,
      "outputs": [
        {
          "output_type": "display_data",
          "data": {
            "text/plain": [
              "['_ID', ' TimeSt', 'Country', 'Province', 'City', 'Latitude', 'Longitude']"
            ]
          },
          "metadata": {
            "tags": []
          }
        },
        {
          "output_type": "display_data",
          "data": {
            "text/plain": [
              "['_ID', 'TimeSt', 'Country', 'Province', 'City', 'Latitude', 'Longitude']"
            ]
          },
          "metadata": {
            "tags": []
          }
        }
      ]
    },
    {
      "cell_type": "code",
      "metadata": {
        "id": "rdsPTcnIcFBF"
      },
      "source": [
        "poi_df.rename(columns={' Latitude': 'Latitude'}, inplace=True)"
      ],
      "execution_count": 8,
      "outputs": []
    },
    {
      "cell_type": "markdown",
      "metadata": {
        "id": "dCtxGMoVc0Bd"
      },
      "source": [
        "# 1. Cleanup"
      ]
    },
    {
      "cell_type": "code",
      "metadata": {
        "colab": {
          "base_uri": "https://localhost:8080/"
        },
        "id": "RXRSJPlguBE7",
        "outputId": "80007676-9bf5-4658-806a-df80622a409f"
      },
      "source": [
        "df.persist()  # the dataset is relatively small"
      ],
      "execution_count": 9,
      "outputs": [
        {
          "output_type": "execute_result",
          "data": {
            "text/plain": [
              "DataFrame[_ID: int, TimeSt: string, Country: string, Province: string, City: string, Latitude: double, Longitude: double]"
            ]
          },
          "metadata": {
            "tags": []
          },
          "execution_count": 9
        }
      ]
    },
    {
      "cell_type": "code",
      "metadata": {
        "colab": {
          "base_uri": "https://localhost:8080/",
          "height": 50
        },
        "id": "8IGFxg5ucarx",
        "outputId": "58afec2f-d970-4f52-94d8-862a060464cc"
      },
      "source": [
        "display(df.count())\n",
        "df = df.dropDuplicates([\"Latitude\", \"Longitude\", \"TimeSt\"])\n",
        "df.count()"
      ],
      "execution_count": 10,
      "outputs": [
        {
          "output_type": "display_data",
          "data": {
            "text/plain": [
              "22025"
            ]
          },
          "metadata": {
            "tags": []
          }
        },
        {
          "output_type": "execute_result",
          "data": {
            "text/plain": [
              "19999"
            ]
          },
          "metadata": {
            "tags": []
          },
          "execution_count": 10
        }
      ]
    },
    {
      "cell_type": "code",
      "metadata": {
        "colab": {
          "base_uri": "https://localhost:8080/"
        },
        "id": "qS8vB9sa0mmd",
        "outputId": "a3433e4b-ee0a-4466-8a25-39d71aa90867"
      },
      "source": [
        "df.show(5)"
      ],
      "execution_count": 11,
      "outputs": [
        {
          "output_type": "stream",
          "text": [
            "+-------+--------------------+-------+--------+----------+--------+---------+\n",
            "|    _ID|              TimeSt|Country|Province|      City|Latitude|Longitude|\n",
            "+-------+--------------------+-------+--------+----------+--------+---------+\n",
            "|4520345|2017-06-21 22:00:...|     CA|      ON|   Windsor| 42.2654| -83.0261|\n",
            "|5156965|2017-06-21 22:44:...|     CA|      ON|    London| 42.9334| -81.2258|\n",
            "|5278748|2017-06-21 16:54:...|     CA|      ON|    London|42.98761|-81.25129|\n",
            "|4576469|2017-06-21 06:02:...|     CA|      ON|   Grimsby| 43.1976| -79.5756|\n",
            "|5081522|2017-06-21 18:39:...|     CA|      ON|Burlington| 43.3889| -79.7682|\n",
            "+-------+--------------------+-------+--------+----------+--------+---------+\n",
            "only showing top 5 rows\n",
            "\n"
          ],
          "name": "stdout"
        }
      ]
    },
    {
      "cell_type": "code",
      "metadata": {
        "id": "lAHQacYxy_4O"
      },
      "source": [
        "poi_df.drop_duplicates([\"Latitude\", \"Longitude\"], inplace=True)"
      ],
      "execution_count": 12,
      "outputs": []
    },
    {
      "cell_type": "code",
      "metadata": {
        "id": "jilejST9zl_l"
      },
      "source": [
        "poi_df.loc[2:,['POIID']] = ['POI2', 'POI3']\n",
        "poi_df.reset_index(inplace=True, drop=True)"
      ],
      "execution_count": 13,
      "outputs": []
    },
    {
      "cell_type": "markdown",
      "metadata": {
        "id": "9WtxfFIfc34E"
      },
      "source": [
        "# 2. Label"
      ]
    },
    {
      "cell_type": "code",
      "metadata": {
        "colab": {
          "base_uri": "https://localhost:8080/",
          "height": 142
        },
        "id": "qvs6V-8-c4_L",
        "outputId": "1d0b9e68-d679-492a-c27b-9ada9eeda562"
      },
      "source": [
        "poi_df"
      ],
      "execution_count": 14,
      "outputs": [
        {
          "output_type": "execute_result",
          "data": {
            "text/html": [
              "<div>\n",
              "<style scoped>\n",
              "    .dataframe tbody tr th:only-of-type {\n",
              "        vertical-align: middle;\n",
              "    }\n",
              "\n",
              "    .dataframe tbody tr th {\n",
              "        vertical-align: top;\n",
              "    }\n",
              "\n",
              "    .dataframe thead th {\n",
              "        text-align: right;\n",
              "    }\n",
              "</style>\n",
              "<table border=\"1\" class=\"dataframe\">\n",
              "  <thead>\n",
              "    <tr style=\"text-align: right;\">\n",
              "      <th></th>\n",
              "      <th>POIID</th>\n",
              "      <th>Latitude</th>\n",
              "      <th>Longitude</th>\n",
              "    </tr>\n",
              "  </thead>\n",
              "  <tbody>\n",
              "    <tr>\n",
              "      <th>0</th>\n",
              "      <td>POI1</td>\n",
              "      <td>53.546167</td>\n",
              "      <td>-113.485734</td>\n",
              "    </tr>\n",
              "    <tr>\n",
              "      <th>1</th>\n",
              "      <td>POI2</td>\n",
              "      <td>45.521629</td>\n",
              "      <td>-73.566024</td>\n",
              "    </tr>\n",
              "    <tr>\n",
              "      <th>2</th>\n",
              "      <td>POI3</td>\n",
              "      <td>45.224830</td>\n",
              "      <td>-63.232729</td>\n",
              "    </tr>\n",
              "  </tbody>\n",
              "</table>\n",
              "</div>"
            ],
            "text/plain": [
              "  POIID   Latitude   Longitude\n",
              "0  POI1  53.546167 -113.485734\n",
              "1  POI2  45.521629  -73.566024\n",
              "2  POI3  45.224830  -63.232729"
            ]
          },
          "metadata": {
            "tags": []
          },
          "execution_count": 14
        }
      ]
    },
    {
      "cell_type": "markdown",
      "metadata": {
        "id": "Uz4uZ9j22Ak2"
      },
      "source": [
        "It is important to note that Euclidean distance is calculated on a cartesian plane. Since we are dealing with geographic data we also need to consider elevation or adjust the Euclidean formula. However, in order to answer Q3. and plot the circle we use Euclidean distance (2D). A more in-depth topic to consider is spatial relation (https://en.wikipedia.org/wiki/Spatial_relation)"
      ]
    },
    {
      "cell_type": "code",
      "metadata": {
        "id": "8TjNlMqU6Ms5"
      },
      "source": [
        "from pyspark.sql.functions import pandas_udf\n",
        "from scipy.spatial import distance\n",
        "from geopy.distance import distance as geopy_distance\n",
        "import pandas as pd\n",
        "import numpy as np\n",
        "\n",
        "\n",
        "\n",
        "def label_geoClass(lat, long, distFunc):\n",
        "\n",
        "  @pandas_udf(\"class string, minDist float\")\n",
        "  def label_udf(lat: pd.Series, long: pd.Series) -> pd.DataFrame:\n",
        "    lat_long = np.column_stack((lat, long))\n",
        "    #lat_long = pd.DataFrame({'Latitude' : lat, 'Longitude': long})\n",
        "\n",
        "    distances = distance.cdist(lat_long,\n",
        "                               poi_df[['Latitude', 'Longitude']].values,\n",
        "                               distFunc)\n",
        "    \n",
        "    class_labels = poi_df.iloc[distances.argmin(axis=1), 0]\n",
        "    min_distances = distances.min(axis=1)\n",
        "      \n",
        "    return pd.DataFrame({'class': class_labels, 'minDist': min_distances})\n",
        "  \n",
        "  return label_udf(lat, long)\n",
        "  \n",
        "\n",
        "distFunc = 'euclidean'  #lambda u, v: geopy_distance(u, v).km\n",
        "df = df.withColumn(\"class_minDist\",  label_geoClass('Latitude', 'Longitude', distFunc))"
      ],
      "execution_count": 15,
      "outputs": []
    },
    {
      "cell_type": "code",
      "metadata": {
        "id": "93Xc1LkNBAah"
      },
      "source": [
        "temp = df.toPandas()\n",
        "temp['geoClass'] = temp.class_minDist.map(lambda x: x['class'])\n",
        "temp['minDist'] = temp.class_minDist.map(lambda x: x['minDist'])"
      ],
      "execution_count": 16,
      "outputs": []
    },
    {
      "cell_type": "markdown",
      "metadata": {
        "id": "Z66YhOrYIK00"
      },
      "source": [
        "# 3. Analysis"
      ]
    },
    {
      "cell_type": "code",
      "metadata": {
        "colab": {
          "base_uri": "https://localhost:8080/",
          "height": 142
        },
        "id": "npB7i-U_qqhI",
        "outputId": "918e0e39-3f3d-41c9-e563-ed31beef466f"
      },
      "source": [
        "from pyspark.sql import functions as F\n",
        "\n",
        "summary = df.groupBy('class_minDist.class')\\\n",
        "            .agg(F.avg('class_minDist.minDist').alias('Avg Min Distance'),\n",
        "                F.stddev('class_minDist.minDist').alias('STD'),\n",
        "                F.count('*').alias('NumObs'),\n",
        "                F.max('class_minDist.minDist').alias('Radius'))\\\n",
        "            .orderBy('Avg Min Distance')\\\n",
        "            .withColumnRenamed('class_minDist.class', 'geoClass')\\\n",
        "            .toPandas()\n",
        "\n",
        "summary = summary.merge(poi_df, left_on='geoClass', right_on='POIID').drop('POIID', axis=1)\n",
        "\n",
        "summary['Density'] = summary.NumObs / (np.pi*(summary.Radius**2))\n",
        "summary"
      ],
      "execution_count": 17,
      "outputs": [
        {
          "output_type": "execute_result",
          "data": {
            "text/html": [
              "<div>\n",
              "<style scoped>\n",
              "    .dataframe tbody tr th:only-of-type {\n",
              "        vertical-align: middle;\n",
              "    }\n",
              "\n",
              "    .dataframe tbody tr th {\n",
              "        vertical-align: top;\n",
              "    }\n",
              "\n",
              "    .dataframe thead th {\n",
              "        text-align: right;\n",
              "    }\n",
              "</style>\n",
              "<table border=\"1\" class=\"dataframe\">\n",
              "  <thead>\n",
              "    <tr style=\"text-align: right;\">\n",
              "      <th></th>\n",
              "      <th>geoClass</th>\n",
              "      <th>Avg Min Distance</th>\n",
              "      <th>STD</th>\n",
              "      <th>NumObs</th>\n",
              "      <th>Radius</th>\n",
              "      <th>Latitude</th>\n",
              "      <th>Longitude</th>\n",
              "      <th>Density</th>\n",
              "    </tr>\n",
              "  </thead>\n",
              "  <tbody>\n",
              "    <tr>\n",
              "      <th>0</th>\n",
              "      <td>POI1</td>\n",
              "      <td>3.348183</td>\n",
              "      <td>3.85849</td>\n",
              "      <td>9698</td>\n",
              "      <td>24.851936</td>\n",
              "      <td>53.546167</td>\n",
              "      <td>-113.485734</td>\n",
              "      <td>4.998179</td>\n",
              "    </tr>\n",
              "    <tr>\n",
              "      <th>1</th>\n",
              "      <td>POI2</td>\n",
              "      <td>5.537951</td>\n",
              "      <td>2.85869</td>\n",
              "      <td>9817</td>\n",
              "      <td>20.155378</td>\n",
              "      <td>45.521629</td>\n",
              "      <td>-73.566024</td>\n",
              "      <td>7.692136</td>\n",
              "    </tr>\n",
              "    <tr>\n",
              "      <th>2</th>\n",
              "      <td>POI3</td>\n",
              "      <td>8.810411</td>\n",
              "      <td>28.67513</td>\n",
              "      <td>484</td>\n",
              "      <td>192.704987</td>\n",
              "      <td>45.224830</td>\n",
              "      <td>-63.232729</td>\n",
              "      <td>0.004149</td>\n",
              "    </tr>\n",
              "  </tbody>\n",
              "</table>\n",
              "</div>"
            ],
            "text/plain": [
              "  geoClass  Avg Min Distance       STD  ...   Latitude   Longitude   Density\n",
              "0     POI1          3.348183   3.85849  ...  53.546167 -113.485734  4.998179\n",
              "1     POI2          5.537951   2.85869  ...  45.521629  -73.566024  7.692136\n",
              "2     POI3          8.810411  28.67513  ...  45.224830  -63.232729  0.004149\n",
              "\n",
              "[3 rows x 8 columns]"
            ]
          },
          "metadata": {
            "tags": []
          },
          "execution_count": 17
        }
      ]
    },
    {
      "cell_type": "code",
      "metadata": {
        "colab": {
          "base_uri": "https://localhost:8080/",
          "height": 497
        },
        "id": "uBX_UNOTq2nh",
        "outputId": "5021a36a-aa02-4285-95bc-df05b5b64166"
      },
      "source": [
        "import matplotlib.pyplot as plt\n",
        "import numpy as np\n",
        "import seaborn as sns\n",
        "\n",
        "plt.figure(figsize=(8,8))\n",
        "ax = sns.scatterplot(data=temp, x=\"Longitude\", y=\"Latitude\", hue=\"geoClass\",\n",
        "                     size=1)\n",
        "\n",
        "def encircle(x, y, r, center, ax=ax, **kw):\n",
        "    \n",
        "    p = np.column_stack([x,y])\n",
        "    #mean = np.mean(p, axis=0)\n",
        "    #d = p-mean\n",
        "    #r = np.max(np.sqrt(d[:,0]**2+d[:,1]**2 ))\n",
        "    #circ = plt.Circle(mean, radius=1.05*r,**kw)\n",
        "    circ = plt.Circle(center, radius=1.05*r,**kw)\n",
        "    ax.add_patch(circ)\n",
        "\n",
        "for data in summary.itertuples():\n",
        "  ax.scatter(data.Longitude,data.Latitude, s=50, marker='x', color='black')\n",
        "  encircle(temp[temp.geoClass == data.geoClass].Longitude,\n",
        "           temp[temp.geoClass == data.geoClass].Latitude,\n",
        "           r=data.Radius,\n",
        "           center=np.array([data.Longitude, data.Latitude]),\n",
        "           ec=\"k\", fc=\"none\", alpha=0.2)\n",
        "\n",
        "plt.gca().relim()\n",
        "plt.gca().autoscale_view()\n",
        "plt.show()"
      ],
      "execution_count": 18,
      "outputs": [
        {
          "output_type": "display_data",
          "data": {
            "image/png": "[encoded data removed]",
            "text/plain": [
              "<Figure size 576x576 with 1 Axes>"
            ]
          },
          "metadata": {
            "tags": [],
            "needs_background": "light"
          }
        }
      ]
    },
    {
      "cell_type": "markdown",
      "metadata": {
        "id": "tC8fMTMl6uLt"
      },
      "source": [
        "# 4a i). Outlier detection & Custom Scaling\n",
        "\n",
        "#### Outlier detection"
      ]
    },
    {
      "cell_type": "code",
      "metadata": {
        "id": "oyemwLwaWY9a"
      },
      "source": [
        "outliers = dict()\n",
        "for poi in summary.itertuples():\n",
        "  poi_mean, poi_std = poi._2, poi.STD\n",
        "  cut_off = poi_std * 3\n",
        "  lower, upper = poi_mean - cut_off, poi_mean + cut_off\n",
        "  outliers[poi.geoClass] = temp.loc[(temp.geoClass == poi.geoClass) &\n",
        "                                    ((temp.minDist < lower) | (temp.minDist > upper)),\n",
        "                                    ['minDist']].index"
      ],
      "execution_count": 19,
      "outputs": []
    },
    {
      "cell_type": "code",
      "metadata": {
        "colab": {
          "base_uri": "https://localhost:8080/",
          "height": 35
        },
        "id": "ZCVFwGgxbIwF",
        "outputId": "1a9660fa-deec-44bf-a369-57b31120ae87"
      },
      "source": [
        "'|'.join(poi + ':' + str(len(outliers)) if len(outliers) else poi + ':' + str(0)\n",
        "         for poi,outliers in outliers.items())  # outliers present in POI"
      ],
      "execution_count": 20,
      "outputs": [
        {
          "output_type": "execute_result",
          "data": {
            "application/vnd.google.colaboratory.intrinsic+json": {
              "type": "string"
            },
            "text/plain": [
              "'POI1:281|POI2:213|POI3:20'"
            ]
          },
          "metadata": {
            "tags": []
          },
          "execution_count": 20
        }
      ]
    },
    {
      "cell_type": "markdown",
      "metadata": {
        "id": "5Kg24teVZ6o0"
      },
      "source": [
        "#### Scaled (-10,10) with Robust Scaling"
      ]
    },
    {
      "cell_type": "code",
      "metadata": {
        "colab": {
          "base_uri": "https://localhost:8080/",
          "height": 433
        },
        "id": "x9e7MpF5z6q7",
        "outputId": "a85e2e12-fac5-4088-d8d2-3b2ab898655c"
      },
      "source": [
        "# Robust scaling is insensitive to outliers\n",
        "# Ref: https://machinelearningmastery.com/robust-scaler-transforms-for-machine-learning/\n",
        "# Rescale: https://stats.stackexchange.com/a/25897\n",
        "\n",
        "def robust_scale(X):\n",
        "  \n",
        "  X_max = X.quantile(q=0.75)\n",
        "  X_min = X.quantile(q=0.25)\n",
        "  X_norm = (X - X.median()) / (X_max - X_min)\n",
        "\n",
        "  #X_norm_max = X_norm.max()\n",
        "  #X_norm_min = X_norm.min()\n",
        "  #X_scaled = (X_norm - X_norm_min) / (X_norm_max - X_norm_min)\n",
        "\n",
        "  #new_scale_max = 10\n",
        "  #new_scale_min = -10\n",
        "  #X_reScaled = X_scaled * (new_scale_max - new_scale_min) + new_scale_min\n",
        "\n",
        "  #return X_reScaled\n",
        "\n",
        "  X_norm_max = X_norm.max()\n",
        "  X_norm_min = X_norm.min()\n",
        "  new_scale_max = 10\n",
        "  new_scale_min = -10\n",
        "  X_scaled = (X_norm - X_norm_min) * ((new_scale_max - new_scale_min)/ (X_norm_max - X_norm_min)) + new_scale_min\n",
        "\n",
        "  return X_scaled\n",
        "\n",
        "temp['minDist_Scaled'] = temp.minDist.transform(robust_scale)\n",
        "display(temp.minDist_Scaled.describe())\n",
        "temp.minDist_Scaled.plot(kind='hist')"
      ],
      "execution_count": 21,
      "outputs": [
        {
          "output_type": "display_data",
          "data": {
            "text/plain": [
              "count    19999.000000\n",
              "mean        -9.527762\n",
              "std          0.593584\n",
              "min        -10.000000\n",
              "25%         -9.780023\n",
              "50%         -9.606983\n",
              "75%         -9.339771\n",
              "max         10.000000\n",
              "Name: minDist_Scaled, dtype: float64"
            ]
          },
          "metadata": {
            "tags": []
          }
        },
        {
          "output_type": "execute_result",
          "data": {
            "text/plain": [
              "<matplotlib.axes._subplots.AxesSubplot at 0x7f822abf1490>"
            ]
          },
          "metadata": {
            "tags": []
          },
          "execution_count": 21
        },
        {
          "output_type": "display_data",
          "data": {
            "image/png": "[encoded data removed]",
            "text/plain": [
              "<Figure size 432x288 with 1 Axes>"
            ]
          },
          "metadata": {
            "tags": [],
            "needs_background": "light"
          }
        }
      ]
    },
    {
      "cell_type": "markdown",
      "metadata": {
        "id": "anfq3DapaFhD"
      },
      "source": [
        "#### Visualize POI variance and distribution"
      ]
    },
    {
      "cell_type": "code",
      "metadata": {
        "colab": {
          "base_uri": "https://localhost:8080/",
          "height": 933
        },
        "id": "bjItP4ofLwss",
        "outputId": "b0d2b2bf-f5a3-465f-a3ce-3e245605ac63"
      },
      "source": [
        "plt.figure(figsize=(25,6))\n",
        "for i, row in enumerate(summary.itertuples(), 1):\n",
        "  plt.subplot(1,summary.shape[0],i)\n",
        "  sns.distplot(temp.loc[temp.geoClass == row.geoClass,'minDist_Scaled'])\n",
        "  plt.title(\"Dist-Plot of {}\".format(row.geoClass))\n",
        "plt.show()\n",
        "\n",
        "plt.figure(figsize=(16,14))\n",
        "plt.subplot(2,2,1)\n",
        "sns.boxplot(x='geoClass', y='minDist_Scaled', data=temp)\n",
        "plt.title(\"Box-Plot for Scaled POI\")\n",
        "\n",
        "plt.subplot(2,2,2)\n",
        "sns.violinplot(x='geoClass', y='minDist_Scaled', data=temp)\n",
        "plt.title(\"Violin-Plot for Scaled POI\")\n",
        "plt.show()"
      ],
      "execution_count": 22,
      "outputs": [
        {
          "output_type": "stream",
          "text": [
            "/usr/local/lib/python3.7/dist-packages/seaborn/distributions.py:2557: FutureWarning: `distplot` is a deprecated function and will be removed in a future version. Please adapt your code to use either `displot` (a figure-level function with similar flexibility) or `histplot` (an axes-level function for histograms).\n",
            "  warnings.warn(msg, FutureWarning)\n",
            "/usr/local/lib/python3.7/dist-packages/seaborn/distributions.py:2557: FutureWarning: `distplot` is a deprecated function and will be removed in a future version. Please adapt your code to use either `displot` (a figure-level function with similar flexibility) or `histplot` (an axes-level function for histograms).\n",
            "  warnings.warn(msg, FutureWarning)\n",
            "/usr/local/lib/python3.7/dist-packages/seaborn/distributions.py:2557: FutureWarning: `distplot` is a deprecated function and will be removed in a future version. Please adapt your code to use either `displot` (a figure-level function with similar flexibility) or `histplot` (an axes-level function for histograms).\n",
            "  warnings.warn(msg, FutureWarning)\n"
          ],
          "name": "stderr"
        },
        {
          "output_type": "display_data",
          "data": {
            "image/png": "[encoded data removed]",
            "text/plain": [
              "<Figure size 1800x432 with 3 Axes>"
            ]
          },
          "metadata": {
            "tags": [],
            "needs_background": "light"
          }
        },
        {
          "output_type": "display_data",
          "data": {
            "image/png": "[encoded data removed]",
            "text/plain": [
              "<Figure size 1152x1008 with 2 Axes>"
            ]
          },
          "metadata": {
            "tags": [],
            "needs_background": "light"
          }
        }
      ]
    },
    {
      "cell_type": "markdown",
      "metadata": {
        "id": "nlJtJQxiMIU0"
      },
      "source": [
        "# 4a ii). Insights from Data"
      ]
    },
    {
      "cell_type": "code",
      "metadata": {
        "id": "5fWbwlh80Rfv"
      },
      "source": [
        "temp['TimeSt'] = pd.to_datetime(temp.TimeSt)"
      ],
      "execution_count": 23,
      "outputs": []
    },
    {
      "cell_type": "code",
      "metadata": {
        "colab": {
          "base_uri": "https://localhost:8080/",
          "height": 296
        },
        "id": "mlfl3Xo8Fylu",
        "outputId": "f3ac1734-d81d-4826-a6ce-3201221485c8"
      },
      "source": [
        "cnts = temp.groupby(temp.TimeSt.dt.hour)['_ID'].count()\n",
        "cnts.plot()\n",
        "min_idx, max_idx = cnts.idxmin(), cnts.idxmax()\n",
        "(min_idx, cnts[min_idx]), (max_idx, cnts[max_idx])"
      ],
      "execution_count": 24,
      "outputs": [
        {
          "output_type": "execute_result",
          "data": {
            "text/plain": [
              "((5, 811), (1, 919))"
            ]
          },
          "metadata": {
            "tags": []
          },
          "execution_count": 24
        },
        {
          "output_type": "display_data",
          "data": {
            "image/png": "[encoded data removed]",
            "text/plain": [
              "<Figure size 432x288 with 1 Axes>"
            ]
          },
          "metadata": {
            "tags": [],
            "needs_background": "light"
          }
        }
      ]
    },
    {
      "cell_type": "code",
      "metadata": {
        "colab": {
          "base_uri": "https://localhost:8080/",
          "height": 296
        },
        "id": "hef3ozTe-v-m",
        "outputId": "0696ace3-7451-4416-ce6e-137c2b840ae4"
      },
      "source": [
        "unique_city_activity = temp.groupby(temp.TimeSt.dt.hour).agg({'City': 'nunique'})\n",
        "unique_city_activity.plot()\n",
        "# 7-7:59 Highest Activity, 10-10:59 Lowest Activity from unique cities\n",
        "# However, it generally follows the same trend as above"
      ],
      "execution_count": 25,
      "outputs": [
        {
          "output_type": "execute_result",
          "data": {
            "text/plain": [
              "<matplotlib.axes._subplots.AxesSubplot at 0x7f82288c4510>"
            ]
          },
          "metadata": {
            "tags": []
          },
          "execution_count": 25
        },
        {
          "output_type": "display_data",
          "data": {
            "image/png": "[encoded data removed]",
            "text/plain": [
              "<Figure size 432x288 with 1 Axes>"
            ]
          },
          "metadata": {
            "tags": [],
            "needs_background": "light"
          }
        }
      ]
    },
    {
      "cell_type": "code",
      "metadata": {
        "colab": {
          "base_uri": "https://localhost:8080/"
        },
        "id": "niD2PLtgH-Sm",
        "outputId": "3ff9010c-caae-4c1a-d0f0-56cf934c01c8"
      },
      "source": [
        "city_activity_freq = temp.City.value_counts()\n",
        "major_activity_cities = city_activity_freq[city_activity_freq > (unique_city_activity.mean().values[0])]\n",
        "(major_activity_cities.shape[0] / city_activity_freq.shape[0]) * 100\n",
        "# Most of the activity comes from about top 3.35 % of cities"
      ],
      "execution_count": 26,
      "outputs": [
        {
          "output_type": "execute_result",
          "data": {
            "text/plain": [
              "3.353658536585366"
            ]
          },
          "metadata": {
            "tags": []
          },
          "execution_count": 26
        }
      ]
    },
    {
      "cell_type": "code",
      "metadata": {
        "colab": {
          "base_uri": "https://localhost:8080/"
        },
        "id": "ErPflTVoHlqJ",
        "outputId": "c539803e-a998-49b5-e15c-7003ed2c8649"
      },
      "source": [
        "city_activity_freq[ city_activity_freq == city_activity_freq.quantile(q=0.01)].shape[0]\n",
        "# Bottom Cities"
      ],
      "execution_count": 27,
      "outputs": [
        {
          "output_type": "execute_result",
          "data": {
            "text/plain": [
              "243"
            ]
          },
          "metadata": {
            "tags": []
          },
          "execution_count": 27
        }
      ]
    },
    {
      "cell_type": "markdown",
      "metadata": {
        "id": "cpdnVTdcyFCE"
      },
      "source": [
        "# 4b) Pipeline Dependency\n",
        "\n",
        "## Solution"
      ]
    },
    {
      "cell_type": "code",
      "metadata": {
        "id": "S4gD_Wbjt2D4"
      },
      "source": [
        "from collections import deque\n",
        "\n",
        "def shortestPathBFS(graph, startNode, endNode):\n",
        "    queue = deque()\n",
        "    queue.append(endNode)\n",
        "    nodes_parents = {str(endNode): None}\n",
        "    completed_tasks = set()\n",
        "\n",
        "    for task in startNode:  # Dependencies for starting tasks are completed\n",
        "      completed_depends = graph[task]\n",
        "      for cd in completed_depends:\n",
        "        completed_tasks.add(cd)\n",
        "\n",
        "    while queue:\n",
        "        curTask = queue.popleft()\n",
        "        \n",
        "        dependencies = graph[curTask]\n",
        "        to_do_tasks = (dependencies - nodes_parents.keys()) - completed_tasks\n",
        "\n",
        "        for task in to_do_tasks:\n",
        "            queue.append(task)\n",
        "            nodes_parents[str(task)] = curTask\n",
        "\n",
        "    print ('->'.join(list(nodes_parents.keys())[::-1]))"
      ],
      "execution_count": 34,
      "outputs": []
    },
    {
      "cell_type": "markdown",
      "metadata": {
        "id": "3n1HUaJ6yc9r"
      },
      "source": [
        "Test Cases"
      ]
    },
    {
      "cell_type": "code",
      "metadata": {
        "colab": {
          "base_uri": "https://localhost:8080/"
        },
        "id": "1jCV0czaZMvm",
        "outputId": "c6489f5d-3aa6-4977-9c59-34907d3fa1f4"
      },
      "source": [
        "from collections import defaultdict\n",
        "\n",
        "relations = '''A->C\n",
        "B->C\n",
        "C->E\n",
        "E->F'''\n",
        "\n",
        "graph = defaultdict(list)\n",
        "for pair in relations.split('\\n'):\n",
        "  v,k = pair.split('->')\n",
        "  graph[k].append(v)\n",
        "\n",
        "graph\n",
        "\n",
        "#TC 1\n",
        "starting_tasks = {'A'}\n",
        "goal_task = 'F'\n",
        "shortestPathBFS(graph, starting_tasks, goal_task)\n",
        "\n",
        "#TC 2\n",
        "starting_tasks = {'A', 'C'}\n",
        "shortestPathBFS(graph, starting_tasks, goal_task)"
      ],
      "execution_count": 35,
      "outputs": [
        {
          "output_type": "stream",
          "text": [
            "B->A->C->E->F\n",
            "C->E->F\n"
          ],
          "name": "stdout"
        }
      ]
    },
    {
      "cell_type": "markdown",
      "metadata": {
        "id": "lVySPfdWZS7Q"
      },
      "source": [
        "## Final Submission"
      ]
    },
    {
      "cell_type": "code",
      "metadata": {
        "colab": {
          "base_uri": "https://localhost:8080/",
          "height": 110
        },
        "id": "RktfH7V_1Bkx",
        "outputId": "1bb32f98-b027-4e0a-d369-286d6cd3beb7"
      },
      "source": [
        "!wget -q https://gist.githubusercontent.com/woozyking/f1d50e1fe1b3bf52e3748bc280cf941f/raw/2d582e0b6d2a55bd50289b4fb2889f321693e288/relations.txt\n",
        "\n",
        "relations = pd.read_csv('relations.txt', header=None, sep=r'->', names=['Dependency', 'Task'], engine='python')\n",
        "relations.head(2) "
      ],
      "execution_count": 36,
      "outputs": [
        {
          "output_type": "execute_result",
          "data": {
            "text/html": [
              "<div>\n",
              "<style scoped>\n",
              "    .dataframe tbody tr th:only-of-type {\n",
              "        vertical-align: middle;\n",
              "    }\n",
              "\n",
              "    .dataframe tbody tr th {\n",
              "        vertical-align: top;\n",
              "    }\n",
              "\n",
              "    .dataframe thead th {\n",
              "        text-align: right;\n",
              "    }\n",
              "</style>\n",
              "<table border=\"1\" class=\"dataframe\">\n",
              "  <thead>\n",
              "    <tr style=\"text-align: right;\">\n",
              "      <th></th>\n",
              "      <th>Dependency</th>\n",
              "      <th>Task</th>\n",
              "    </tr>\n",
              "  </thead>\n",
              "  <tbody>\n",
              "    <tr>\n",
              "      <th>0</th>\n",
              "      <td>97</td>\n",
              "      <td>102</td>\n",
              "    </tr>\n",
              "    <tr>\n",
              "      <th>1</th>\n",
              "      <td>75</td>\n",
              "      <td>31</td>\n",
              "    </tr>\n",
              "  </tbody>\n",
              "</table>\n",
              "</div>"
            ],
            "text/plain": [
              "   Dependency  Task\n",
              "0          97   102\n",
              "1          75    31"
            ]
          },
          "metadata": {
            "tags": []
          },
          "execution_count": 36
        }
      ]
    },
    {
      "cell_type": "code",
      "metadata": {
        "colab": {
          "base_uri": "https://localhost:8080/"
        },
        "id": "veBvpDJk2z83",
        "outputId": "bfba9d38-b226-4c2a-a052-7b4034a91224"
      },
      "source": [
        "!wget -q https://gist.githubusercontent.com/woozyking/f1d50e1fe1b3bf52e3748bc280cf941f/raw/2d582e0b6d2a55bd50289b4fb2889f321693e288/task_ids.txt\n",
        "\n",
        "reverse_graph = dict()\n",
        "with open('task_ids.txt', 'r') as f:\n",
        "  for task_id in f.readline().split(','):\n",
        "    reverse_graph[int(task_id)] = []\n",
        "\n",
        "for row in relations.itertuples():\n",
        "  reverse_graph[row.Task].append(row.Dependency)\n",
        "reverse_graph  # Note that this is a reversed graph or indegree graph where values are all nodes pointing to the key node"
      ],
      "execution_count": 63,
      "outputs": [
        {
          "output_type": "execute_result",
          "data": {
            "text/plain": [
              "{16: [],\n",
              " 20: [100, 21, 73],\n",
              " 21: [],\n",
              " 31: [75, 102, 55],\n",
              " 36: [102],\n",
              " 37: [75, 102, 16, 55],\n",
              " 39: [],\n",
              " 41: [],\n",
              " 55: [62, 56],\n",
              " 56: [94],\n",
              " 62: [],\n",
              " 73: [39, 41],\n",
              " 75: [56],\n",
              " 94: [20],\n",
              " 97: [112, 20],\n",
              " 100: [39],\n",
              " 102: [97, 56, 94],\n",
              " 112: [41]}"
            ]
          },
          "metadata": {
            "tags": []
          },
          "execution_count": 63
        }
      ]
    },
    {
      "cell_type": "code",
      "metadata": {
        "colab": {
          "base_uri": "https://localhost:8080/"
        },
        "id": "WdVJ3Tyj1EwB",
        "outputId": "fb2c5e28-7657-4275-f271-64958b5ef7aa"
      },
      "source": [
        "starting_tasks = {73}\n",
        "goal_task = 36\n",
        "shortestPathBFS(reverse_graph, starting_tasks, goal_task)"
      ],
      "execution_count": 64,
      "outputs": [
        {
          "output_type": "stream",
          "text": [
            "21->100->73->20->112->94->97->56->102->36\n"
          ],
          "name": "stdout"
        }
      ]
    },
    {
      "cell_type": "markdown",
      "metadata": {
        "id": "W80H0VOzJzwI"
      },
      "source": [
        "---\n",
        "### **topological_sort**"
      ]
    },
    {
      "cell_type": "code",
      "metadata": {
        "colab": {
          "base_uri": "https://localhost:8080/"
        },
        "id": "w6trjEpYg9fk",
        "outputId": "c942d5b3-1be8-47d2-d094-11c53790e626"
      },
      "source": [
        "graph = dict()\n",
        "with open('task_ids.txt', 'r') as f:\n",
        "  for task_id in f.readline().split(','):\n",
        "    graph[int(task_id)] = []\n",
        "\n",
        "for row in relations.itertuples():\n",
        "  graph[row.Dependency].append(row.Task)\n",
        "graph"
      ],
      "execution_count": 88,
      "outputs": [
        {
          "output_type": "execute_result",
          "data": {
            "text/plain": [
              "{16: [37],\n",
              " 20: [94, 97],\n",
              " 21: [20],\n",
              " 31: [],\n",
              " 36: [],\n",
              " 37: [],\n",
              " 39: [73, 100],\n",
              " 41: [73, 112],\n",
              " 55: [31, 37],\n",
              " 56: [102, 75, 55],\n",
              " 62: [55],\n",
              " 73: [20],\n",
              " 75: [31, 37],\n",
              " 94: [56, 102],\n",
              " 97: [102],\n",
              " 100: [20],\n",
              " 102: [36, 37, 31],\n",
              " 112: [97]}"
            ]
          },
          "metadata": {
            "tags": []
          },
          "execution_count": 88
        }
      ]
    },
    {
      "cell_type": "code",
      "metadata": {
        "id": "eNjXBpLHJ3Ry"
      },
      "source": [
        "from collections import deque, defaultdict\n",
        "\n",
        "def topological_sort(graph, startNode, endNode):\n",
        "    \n",
        "    indegrees = defaultdict(lambda: 0)     # node: # of incoming edges\n",
        "    for node, neighbours in graph.items():\n",
        "      for neighbour in neighbours:\n",
        "        indegrees[neighbour] += 1  # add one incoming edge\n",
        "\n",
        "    node_with_no_incoming_edges = deque()  #deque([startNode]) if startNode else \n",
        "    for node in graph.keys():\n",
        "      if indegrees[node] == 0:     # no incoming edges\n",
        "        node_with_no_incoming_edges.append(node)  # [16, 39, 41, 62, 21]\n",
        "\n",
        "    topological_ordering = []\n",
        "\n",
        "    while len(node_with_no_incoming_edges) > 0:\n",
        "\n",
        "      curNode = node_with_no_incoming_edges.popleft()\n",
        "      topological_ordering.append(str(curNode))\n",
        "      #print(topological_ordering)\n",
        "\n",
        "      for neighbour in graph[curNode]:\n",
        "        indegrees[neighbour] -= 1\n",
        "        if indegrees[neighbour] == 0:\n",
        "          #if neighbour == endNode:\n",
        "          #  topological_ordering.append(str(curNode))\n",
        "          #  return '->'.join(topological_ordering)\n",
        "          node_with_no_incoming_edges.append(neighbour)\n",
        "\n",
        "    return ('->'.join(topological_ordering))"
      ],
      "execution_count": 93,
      "outputs": []
    },
    {
      "cell_type": "code",
      "metadata": {
        "colab": {
          "base_uri": "https://localhost:8080/",
          "height": 35
        },
        "id": "9cvZwFTcJ3zh",
        "outputId": "99c8ef53-4c95-4282-87b3-92aed13331eb"
      },
      "source": [
        "starting_tasks = 73\n",
        "goal_task = 36\n",
        "\n",
        "topological_sort(graph, starting_tasks, goal_task) "
      ],
      "execution_count": 94,
      "outputs": [
        {
          "output_type": "execute_result",
          "data": {
            "application/vnd.google.colaboratory.intrinsic+json": {
              "type": "string"
            },
            "text/plain": [
              "'16->39->41->62->21->100->73->112->20->94->97->56->102->75->55->36->31->37'"
            ]
          },
          "metadata": {
            "tags": []
          },
          "execution_count": 94
        }
      ]
    },
    {
      "cell_type": "markdown",
      "metadata": {
        "id": "6I1_aXaeihZL"
      },
      "source": [
        "The question asks for topological sorting, however, this is incorrect way to answer the problem. In topological sort, we end up adding extra nodes that have indegree of 0 in the subsequence starNode to endNode. Always it is not obvious what is the starting cutoff point (it may not be startNode) "
      ]
    }
  ]
}