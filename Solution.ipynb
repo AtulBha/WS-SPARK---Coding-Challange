{
  "nbformat": 4,
  "nbformat_minor": 0,
  "metadata": {
    "colab": {
      "name": "EQWorks.ipynb",
      "provenance": [],
      "collapsed_sections": [],
      "authorship_tag": "ABX9TyPhb9HAJtQQI+H1ND1zTo3I",
      "include_colab_link": true
    },
    "kernelspec": {
      "name": "python3",
      "display_name": "Python 3"
    },
    "language_info": {
      "name": "python"
    }
  },
  "cells": [
    {
      "cell_type": "markdown",
      "metadata": {
        "id": "view-in-github",
        "colab_type": "text"
      },
      "source": [
        "<a href=\"https://colab.research.google.com/github/AtulBha/WS-SPARK---Coding-Challange/blob/main/Solution.ipynb\" target=\"_parent\"><img src=\"https://colab.research.google.com/assets/colab-badge.svg\" alt=\"Open In Colab\"/></a>"
      ]
    },
    {
      "cell_type": "code",
      "metadata": {
        "id": "MCQsNbafzKiZ"
      },
      "source": [
        "#!pip install geopandas"
      ],
      "execution_count": 1,
      "outputs": []
    },
    {
      "cell_type": "code",
      "metadata": {
        "id": "lh5NCoc8fsSO"
      },
      "source": [
        "!apt-get install openjdk-8-jdk-headless -qq > /dev/null\n",
        "!wget -q https://downloads.apache.org/spark/spark-3.1.1/spark-3.1.1-bin-hadoop3.2.tgz\n",
        "!tar xf spark-3.1.1-bin-hadoop3.2.tgz\n",
        "!pip install -q findspark"
      ],
      "execution_count": 2,
      "outputs": []
    },
    {
      "cell_type": "code",
      "metadata": {
        "id": "DXOxiSKHWKrm"
      },
      "source": [
        "import os\n",
        "os.environ[\"JAVA_HOME\"] = \"/usr/lib/jvm/java-8-openjdk-amd64\"\n",
        "os.environ[\"SPARK_HOME\"] = \"/content/spark-3.1.1-bin-hadoop3.2\""
      ],
      "execution_count": 3,
      "outputs": []
    },
    {
      "cell_type": "code",
      "metadata": {
        "id": "E7jD7p_VVs2Q"
      },
      "source": [
        "import findspark\n",
        "findspark.init()"
      ],
      "execution_count": 4,
      "outputs": []
    },
    {
      "cell_type": "code",
      "metadata": {
        "id": "zuiZGkxqbB8f"
      },
      "source": [
        "from pyspark.sql import SparkSession\n",
        "from pyspark import SparkFiles\n",
        "\n",
        "spark = SparkSession.builder.master('local').getOrCreate()\n",
        "\n",
        "url = \"https://raw.githubusercontent.com/EQWorks/ws-data-spark/master/data/DataSample.csv\"\n",
        "url2 = \"https://raw.githubusercontent.com/EQWorks/ws-data-spark/master/data/POIList.csv\"\n",
        "spark.sparkContext.addFile(url)\n",
        "spark.sparkContext.addFile(url2)\n",
        "\n",
        "\n",
        "df = spark.read.csv(SparkFiles.get(\"DataSample.csv\"), header=True, inferSchema= True)\n",
        "poi = spark.read.csv(SparkFiles.get(\"POIList.csv\"), header=True, inferSchema= True)\n",
        "poi_df = poi.toPandas()"
      ],
      "execution_count": 5,
      "outputs": []
    },
    {
      "cell_type": "code",
      "metadata": {
        "colab": {
          "base_uri": "https://localhost:8080/"
        },
        "id": "XvZvu9-HbW08",
        "outputId": "005cf02d-cb97-4f0b-9b7d-c6f78c94c23e"
      },
      "source": [
        "df.printSchema()"
      ],
      "execution_count": 6,
      "outputs": [
        {
          "output_type": "stream",
          "text": [
            "root\n",
            " |-- _ID: integer (nullable = true)\n",
            " |--  TimeSt: string (nullable = true)\n",
            " |-- Country: string (nullable = true)\n",
            " |-- Province: string (nullable = true)\n",
            " |-- City: string (nullable = true)\n",
            " |-- Latitude: double (nullable = true)\n",
            " |-- Longitude: double (nullable = true)\n",
            "\n"
          ],
          "name": "stdout"
        }
      ]
    },
    {
      "cell_type": "code",
      "metadata": {
        "colab": {
          "base_uri": "https://localhost:8080/",
          "height": 50
        },
        "id": "HB4tXEVxeqrX",
        "outputId": "e1f898e8-bbeb-4649-d13a-6416a5c745e7"
      },
      "source": [
        "display(df.columns)\n",
        "df = df.withColumnRenamed(' TimeSt', 'TimeSt')\n",
        "display(df.columns)"
      ],
      "execution_count": 7,
      "outputs": [
        {
          "output_type": "display_data",
          "data": {
            "text/plain": [
              "['_ID', ' TimeSt', 'Country', 'Province', 'City', 'Latitude', 'Longitude']"
            ]
          },
          "metadata": {
            "tags": []
          }
        },
        {
          "output_type": "display_data",
          "data": {
            "text/plain": [
              "['_ID', 'TimeSt', 'Country', 'Province', 'City', 'Latitude', 'Longitude']"
            ]
          },
          "metadata": {
            "tags": []
          }
        }
      ]
    },
    {
      "cell_type": "code",
      "metadata": {
        "id": "rdsPTcnIcFBF"
      },
      "source": [
        "poi_df.rename(columns={' Latitude': 'Latitude'}, inplace=True)"
      ],
      "execution_count": 8,
      "outputs": []
    },
    {
      "cell_type": "markdown",
      "metadata": {
        "id": "dCtxGMoVc0Bd"
      },
      "source": [
        "# 1. Cleanup"
      ]
    },
    {
      "cell_type": "code",
      "metadata": {
        "colab": {
          "base_uri": "https://localhost:8080/"
        },
        "id": "RXRSJPlguBE7",
        "outputId": "42b006e2-8e1c-4da5-8209-4277acca2086"
      },
      "source": [
        "df.persist()  # the dataset is relatively small"
      ],
      "execution_count": 9,
      "outputs": [
        {
          "output_type": "execute_result",
          "data": {
            "text/plain": [
              "DataFrame[_ID: int, TimeSt: string, Country: string, Province: string, City: string, Latitude: double, Longitude: double]"
            ]
          },
          "metadata": {
            "tags": []
          },
          "execution_count": 9
        }
      ]
    },
    {
      "cell_type": "code",
      "metadata": {
        "colab": {
          "base_uri": "https://localhost:8080/",
          "height": 50
        },
        "id": "8IGFxg5ucarx",
        "outputId": "ba13b5f6-fb09-468d-f811-b1bee2c5eb96"
      },
      "source": [
        "display(df.count())\n",
        "df = df.dropDuplicates([\"Latitude\", \"Longitude\", \"TimeSt\"])\n",
        "df.count()"
      ],
      "execution_count": 10,
      "outputs": [
        {
          "output_type": "display_data",
          "data": {
            "text/plain": [
              "22025"
            ]
          },
          "metadata": {
            "tags": []
          }
        },
        {
          "output_type": "execute_result",
          "data": {
            "text/plain": [
              "19999"
            ]
          },
          "metadata": {
            "tags": []
          },
          "execution_count": 10
        }
      ]
    },
    {
      "cell_type": "code",
      "metadata": {
        "colab": {
          "base_uri": "https://localhost:8080/"
        },
        "id": "qS8vB9sa0mmd",
        "outputId": "8dc5fd39-8751-4b9c-cc67-2a944687fade"
      },
      "source": [
        "df.show(5)"
      ],
      "execution_count": 11,
      "outputs": [
        {
          "output_type": "stream",
          "text": [
            "+-------+--------------------+-------+--------+----------+--------+---------+\n",
            "|    _ID|              TimeSt|Country|Province|      City|Latitude|Longitude|\n",
            "+-------+--------------------+-------+--------+----------+--------+---------+\n",
            "|4520345|2017-06-21 22:00:...|     CA|      ON|   Windsor| 42.2654| -83.0261|\n",
            "|5156965|2017-06-21 22:44:...|     CA|      ON|    London| 42.9334| -81.2258|\n",
            "|5278748|2017-06-21 16:54:...|     CA|      ON|    London|42.98761|-81.25129|\n",
            "|4576469|2017-06-21 06:02:...|     CA|      ON|   Grimsby| 43.1976| -79.5756|\n",
            "|5081522|2017-06-21 18:39:...|     CA|      ON|Burlington| 43.3889| -79.7682|\n",
            "+-------+--------------------+-------+--------+----------+--------+---------+\n",
            "only showing top 5 rows\n",
            "\n"
          ],
          "name": "stdout"
        }
      ]
    },
    {
      "cell_type": "code",
      "metadata": {
        "id": "lAHQacYxy_4O"
      },
      "source": [
        "poi_df.drop_duplicates([\"Latitude\", \"Longitude\"], inplace=True)"
      ],
      "execution_count": 12,
      "outputs": []
    },
    {
      "cell_type": "code",
      "metadata": {
        "id": "jilejST9zl_l"
      },
      "source": [
        "poi_df.loc[2:,['POIID']] = ['POI2', 'POI3']\n",
        "poi_df.reset_index(inplace=True, drop=True)"
      ],
      "execution_count": 13,
      "outputs": []
    },
    {
      "cell_type": "markdown",
      "metadata": {
        "id": "9WtxfFIfc34E"
      },
      "source": [
        "# 2. Label"
      ]
    },
    {
      "cell_type": "code",
      "metadata": {
        "colab": {
          "base_uri": "https://localhost:8080/",
          "height": 136
        },
        "id": "qvs6V-8-c4_L",
        "outputId": "71460ae2-a91a-46a5-9d92-b338c9752940"
      },
      "source": [
        "poi_df"
      ],
      "execution_count": 14,
      "outputs": [
        {
          "output_type": "execute_result",
          "data": {
            "text/html": [
              "<div>\n",
              "<style scoped>\n",
              "    .dataframe tbody tr th:only-of-type {\n",
              "        vertical-align: middle;\n",
              "    }\n",
              "\n",
              "    .dataframe tbody tr th {\n",
              "        vertical-align: top;\n",
              "    }\n",
              "\n",
              "    .dataframe thead th {\n",
              "        text-align: right;\n",
              "    }\n",
              "</style>\n",
              "<table border=\"1\" class=\"dataframe\">\n",
              "  <thead>\n",
              "    <tr style=\"text-align: right;\">\n",
              "      <th></th>\n",
              "      <th>POIID</th>\n",
              "      <th>Latitude</th>\n",
              "      <th>Longitude</th>\n",
              "    </tr>\n",
              "  </thead>\n",
              "  <tbody>\n",
              "    <tr>\n",
              "      <th>0</th>\n",
              "      <td>POI1</td>\n",
              "      <td>53.546167</td>\n",
              "      <td>-113.485734</td>\n",
              "    </tr>\n",
              "    <tr>\n",
              "      <th>1</th>\n",
              "      <td>POI2</td>\n",
              "      <td>45.521629</td>\n",
              "      <td>-73.566024</td>\n",
              "    </tr>\n",
              "    <tr>\n",
              "      <th>2</th>\n",
              "      <td>POI3</td>\n",
              "      <td>45.224830</td>\n",
              "      <td>-63.232729</td>\n",
              "    </tr>\n",
              "  </tbody>\n",
              "</table>\n",
              "</div>"
            ],
            "text/plain": [
              "  POIID   Latitude   Longitude\n",
              "0  POI1  53.546167 -113.485734\n",
              "1  POI2  45.521629  -73.566024\n",
              "2  POI3  45.224830  -63.232729"
            ]
          },
          "metadata": {
            "tags": []
          },
          "execution_count": 14
        }
      ]
    },
    {
      "cell_type": "markdown",
      "metadata": {
        "id": "Uz4uZ9j22Ak2"
      },
      "source": [
        "It is important to note that Euclidean distance is calculated on a cartesian plane. Since we are dealing with geographic data we also need to consider elevation or adjust the Euclidean formula. However, in order to answer Q3. and plot the circle we use Euclidean distance (2D). A more in-depth topic to consider is spatial relation (https://en.wikipedia.org/wiki/Spatial_relation)"
      ]
    },
    {
      "cell_type": "code",
      "metadata": {
        "id": "8TjNlMqU6Ms5"
      },
      "source": [
        "from pyspark.sql.functions import pandas_udf\n",
        "from scipy.spatial import distance\n",
        "from geopy.distance import distance as geopy_distance\n",
        "import pandas as pd\n",
        "import numpy as np\n",
        "\n",
        "\n",
        "\n",
        "def label_geoClass(lat, long, distFunc):\n",
        "\n",
        "  @pandas_udf(\"class string, minDist float\")\n",
        "  def label_udf(lat: pd.Series, long: pd.Series) -> pd.DataFrame:\n",
        "    lat_long = np.column_stack((lat, long))\n",
        "    #lat_long = pd.DataFrame({'Latitude' : lat, 'Longitude': long})\n",
        "\n",
        "    distances = distance.cdist(lat_long,\n",
        "                               poi_df[['Latitude', 'Longitude']].values,\n",
        "                               distFunc)\n",
        "    \n",
        "    class_labels = poi_df.iloc[distances.argmin(axis=1), 0]\n",
        "    min_distances = distances.min(axis=1)\n",
        "      \n",
        "    return pd.DataFrame({'class': class_labels, 'minDist': min_distances})\n",
        "  \n",
        "  return label_udf(lat, long)\n",
        "  \n",
        "\n",
        "distFunc = 'euclidean'  #lambda u, v: geopy_distance(u, v).km\n",
        "df = df.withColumn(\"class_minDist\",  label_geoClass('Latitude', 'Longitude', distFunc))"
      ],
      "execution_count": 15,
      "outputs": []
    },
    {
      "cell_type": "code",
      "metadata": {
        "id": "93Xc1LkNBAah"
      },
      "source": [
        "temp = df.toPandas()\n",
        "temp['geoClass'] = temp.class_minDist.map(lambda x: x['class'])\n",
        "temp['minDist'] = temp.class_minDist.map(lambda x: x['minDist'])"
      ],
      "execution_count": 16,
      "outputs": []
    },
    {
      "cell_type": "markdown",
      "metadata": {
        "id": "Z66YhOrYIK00"
      },
      "source": [
        "# 3. Analysis"
      ]
    },
    {
      "cell_type": "code",
      "metadata": {
        "colab": {
          "base_uri": "https://localhost:8080/",
          "height": 136
        },
        "id": "npB7i-U_qqhI",
        "outputId": "50ea7e29-0d0c-4f67-ce2e-179c75aea1fd"
      },
      "source": [
        "from pyspark.sql import functions as F\n",
        "\n",
        "summary = df.groupBy('class_minDist.class')\\\n",
        "            .agg(F.avg('class_minDist.minDist').alias('Avg Min Distance'),\n",
        "                F.stddev('class_minDist.minDist').alias('STD'),\n",
        "                F.count('*').alias('NumObs'),\n",
        "                F.max('class_minDist.minDist').alias('Radius'))\\\n",
        "            .orderBy('Avg Min Distance')\\\n",
        "            .withColumnRenamed('class_minDist.class', 'geoClass')\\\n",
        "            .toPandas()\n",
        "\n",
        "summary = summary.merge(poi_df, left_on='geoClass', right_on='POIID').drop('POIID', axis=1)\n",
        "\n",
        "summary['Density'] = summary.NumObs / (np.pi*(summary.Radius**2))\n",
        "summary"
      ],
      "execution_count": 17,
      "outputs": [
        {
          "output_type": "execute_result",
          "data": {
            "text/html": [
              "<div>\n",
              "<style scoped>\n",
              "    .dataframe tbody tr th:only-of-type {\n",
              "        vertical-align: middle;\n",
              "    }\n",
              "\n",
              "    .dataframe tbody tr th {\n",
              "        vertical-align: top;\n",
              "    }\n",
              "\n",
              "    .dataframe thead th {\n",
              "        text-align: right;\n",
              "    }\n",
              "</style>\n",
              "<table border=\"1\" class=\"dataframe\">\n",
              "  <thead>\n",
              "    <tr style=\"text-align: right;\">\n",
              "      <th></th>\n",
              "      <th>geoClass</th>\n",
              "      <th>Avg Min Distance</th>\n",
              "      <th>STD</th>\n",
              "      <th>NumObs</th>\n",
              "      <th>Radius</th>\n",
              "      <th>Latitude</th>\n",
              "      <th>Longitude</th>\n",
              "      <th>Density</th>\n",
              "    </tr>\n",
              "  </thead>\n",
              "  <tbody>\n",
              "    <tr>\n",
              "      <th>0</th>\n",
              "      <td>POI1</td>\n",
              "      <td>3.348183</td>\n",
              "      <td>3.85849</td>\n",
              "      <td>9698</td>\n",
              "      <td>24.851936</td>\n",
              "      <td>53.546167</td>\n",
              "      <td>-113.485734</td>\n",
              "      <td>4.998179</td>\n",
              "    </tr>\n",
              "    <tr>\n",
              "      <th>1</th>\n",
              "      <td>POI2</td>\n",
              "      <td>5.537951</td>\n",
              "      <td>2.85869</td>\n",
              "      <td>9817</td>\n",
              "      <td>20.155378</td>\n",
              "      <td>45.521629</td>\n",
              "      <td>-73.566024</td>\n",
              "      <td>7.692136</td>\n",
              "    </tr>\n",
              "    <tr>\n",
              "      <th>2</th>\n",
              "      <td>POI3</td>\n",
              "      <td>8.810411</td>\n",
              "      <td>28.67513</td>\n",
              "      <td>484</td>\n",
              "      <td>192.704987</td>\n",
              "      <td>45.224830</td>\n",
              "      <td>-63.232729</td>\n",
              "      <td>0.004149</td>\n",
              "    </tr>\n",
              "  </tbody>\n",
              "</table>\n",
              "</div>"
            ],
            "text/plain": [
              "  geoClass  Avg Min Distance       STD  ...   Latitude   Longitude   Density\n",
              "0     POI1          3.348183   3.85849  ...  53.546167 -113.485734  4.998179\n",
              "1     POI2          5.537951   2.85869  ...  45.521629  -73.566024  7.692136\n",
              "2     POI3          8.810411  28.67513  ...  45.224830  -63.232729  0.004149\n",
              "\n",
              "[3 rows x 8 columns]"
            ]
          },
          "metadata": {
            "tags": []
          },
          "execution_count": 17
        }
      ]
    },
    {
      "cell_type": "code",
      "metadata": {
        "colab": {
          "base_uri": "https://localhost:8080/",
          "height": 497
        },
        "id": "uBX_UNOTq2nh",
        "outputId": "faa4df2a-40c7-4e1c-f4e8-3e3195a7b860"
      },
      "source": [
        "import matplotlib.pyplot as plt\n",
        "import numpy as np\n",
        "import seaborn as sns\n",
        "\n",
        "plt.figure(figsize=(8,8))\n",
        "ax = sns.scatterplot(data=temp, x=\"Longitude\", y=\"Latitude\", hue=\"geoClass\",\n",
        "                     size=1)\n",
        "\n",
        "def encircle(x, y, r, center, ax=ax, **kw):\n",
        "    \n",
        "    p = np.column_stack([x,y])\n",
        "    #mean = np.mean(p, axis=0)\n",
        "    #d = p-mean\n",
        "    #r = np.max(np.sqrt(d[:,0]**2+d[:,1]**2 ))\n",
        "    #circ = plt.Circle(mean, radius=1.05*r,**kw)\n",
        "    circ = plt.Circle(center, radius=1.05*r,**kw)\n",
        "    ax.add_patch(circ)\n",
        "\n",
        "for data in summary.itertuples():\n",
        "  ax.scatter(data.Longitude,data.Latitude, s=50, marker='x', color='black')\n",
        "  encircle(temp[temp.geoClass == data.geoClass].Longitude,\n",
        "           temp[temp.geoClass == data.geoClass].Latitude,\n",
        "           r=data.Radius,\n",
        "           center=np.array([data.Longitude, data.Latitude]),\n",
        "           ec=\"k\", fc=\"none\", alpha=0.2)\n",
        "\n",
        "plt.gca().relim()\n",
        "plt.gca().autoscale_view()\n",
        "plt.show()"
      ],
      "execution_count": 18,
      "outputs": [
        {
          "output_type": "display_data",
          "data": {
            "image/png": "[encoded data removed]",
            "text/plain": [
              "<Figure size 576x576 with 1 Axes>"
            ]
          },
          "metadata": {
            "tags": [],
            "needs_background": "light"
          }
        }
      ]
    },
    {
      "cell_type": "markdown",
      "metadata": {
        "id": "tC8fMTMl6uLt"
      },
      "source": [
        "# 4a i). Outlier detection & Custom Scaling\n",
        "\n",
        "#### Outlier detection"
      ]
    },
    {
      "cell_type": "code",
      "metadata": {
        "id": "oyemwLwaWY9a"
      },
      "source": [
        "outliers = dict()\n",
        "for poi in summary.itertuples():\n",
        "  poi_mean, poi_std = poi._2, poi.STD\n",
        "  cut_off = poi_std * 3\n",
        "  lower, upper = poi_mean - cut_off, poi_mean + cut_off\n",
        "  outliers[poi.geoClass] = temp.loc[(temp.geoClass == poi.geoClass) &\n",
        "                                    ((temp.minDist < lower) | (temp.minDist > upper)),\n",
        "                                    ['minDist']].index"
      ],
      "execution_count": 19,
      "outputs": []
    },
    {
      "cell_type": "code",
      "metadata": {
        "colab": {
          "base_uri": "https://localhost:8080/",
          "height": 35
        },
        "id": "ZCVFwGgxbIwF",
        "outputId": "7cb18094-a015-4902-bcbd-8794bdae98a9"
      },
      "source": [
        "'|'.join(poi + ':' + str(len(outliers)) if len(outliers) else poi + ':' + str(0)\n",
        "         for poi,outliers in outliers.items())  # outliers present in POI"
      ],
      "execution_count": 20,
      "outputs": [
        {
          "output_type": "execute_result",
          "data": {
            "application/vnd.google.colaboratory.intrinsic+json": {
              "type": "string"
            },
            "text/plain": [
              "'POI1:281|POI2:213|POI3:20'"
            ]
          },
          "metadata": {
            "tags": []
          },
          "execution_count": 20
        }
      ]
    },
    {
      "cell_type": "markdown",
      "metadata": {
        "id": "5Kg24teVZ6o0"
      },
      "source": [
        "#### Scaled (-10,10) with Robust Scaling"
      ]
    },
    {
      "cell_type": "code",
      "metadata": {
        "colab": {
          "base_uri": "https://localhost:8080/"
        },
        "id": "Ymc3GQajo7bq",
        "outputId": "410d20f4-83c3-4380-c1cf-88fa9be1eb7f"
      },
      "source": [
        "# Robust scaling is insensitive to outliers\n",
        "# Ref: https://machinelearningmastery.com/robust-scaler-transforms-for-machine-learning/\n",
        "\n",
        "def robust_custom_scale(X):\n",
        "  \n",
        "  X_max = X.quantile(q=0.75)\n",
        "  X_min = X.quantile(q=0.25)\n",
        "  X_std = (X - X.median()) / (X_max - X_min)\n",
        "\n",
        "  X_std_max = X_std.max()\n",
        "  X_std_min = X_std.min()\n",
        "  X_std2 = (X_std - X_std_min) / (X_std_max - X_std_min)\n",
        "\n",
        "  scale_max = 10\n",
        "  scale_min = -10\n",
        "  X_scaled = X_std2 * (scale_max - scale_min) + scale_min\n",
        "  return X_scaled\n",
        "\n",
        "temp['minDist_Scaled'] = temp.groupby('geoClass').minDist.apply(robust_custom_scale)\n",
        "temp.minDist_Scaled.describe()  # scale -10, 10"
      ],
      "execution_count": 21,
      "outputs": [
        {
          "output_type": "execute_result",
          "data": {
            "text/plain": [
              "count    19999.000000\n",
              "mean        -5.978734\n",
              "std          3.316169\n",
              "min        -10.000000\n",
              "25%         -8.148431\n",
              "50%         -6.907490\n",
              "75%         -3.835561\n",
              "max         10.000000\n",
              "Name: minDist_Scaled, dtype: float64"
            ]
          },
          "metadata": {
            "tags": []
          },
          "execution_count": 21
        }
      ]
    },
    {
      "cell_type": "markdown",
      "metadata": {
        "id": "anfq3DapaFhD"
      },
      "source": [
        "#### Visualize POI variance and distribution"
      ]
    },
    {
      "cell_type": "code",
      "metadata": {
        "colab": {
          "base_uri": "https://localhost:8080/",
          "height": 933
        },
        "id": "bjItP4ofLwss",
        "outputId": "a59efab8-e9db-4c9f-dadd-9a535aa8d179"
      },
      "source": [
        "plt.figure(figsize=(25,6))\n",
        "for i, row in enumerate(summary.itertuples(), 1):\n",
        "  plt.subplot(1,summary.shape[0],i)\n",
        "  sns.distplot(temp.loc[temp.geoClass == row.geoClass,'minDist_Scaled'])\n",
        "  plt.title(\"Dist-Plot of {}\".format(row.geoClass))\n",
        "plt.show()\n",
        "\n",
        "plt.figure(figsize=(16,14))\n",
        "plt.subplot(2,2,1)\n",
        "sns.boxplot(x='geoClass', y='minDist_Scaled', data=temp)\n",
        "plt.title(\"Box-Plot for Scaled POI\")\n",
        "\n",
        "plt.subplot(2,2,2)\n",
        "sns.violinplot(x='geoClass', y='minDist_Scaled', data=temp)\n",
        "plt.title(\"Violin-Plot for Scaled POI\")\n",
        "plt.show()"
      ],
      "execution_count": 22,
      "outputs": [
        {
          "output_type": "stream",
          "text": [
            "/usr/local/lib/python3.7/dist-packages/seaborn/distributions.py:2557: FutureWarning: `distplot` is a deprecated function and will be removed in a future version. Please adapt your code to use either `displot` (a figure-level function with similar flexibility) or `histplot` (an axes-level function for histograms).\n",
            "  warnings.warn(msg, FutureWarning)\n",
            "/usr/local/lib/python3.7/dist-packages/seaborn/distributions.py:2557: FutureWarning: `distplot` is a deprecated function and will be removed in a future version. Please adapt your code to use either `displot` (a figure-level function with similar flexibility) or `histplot` (an axes-level function for histograms).\n",
            "  warnings.warn(msg, FutureWarning)\n",
            "/usr/local/lib/python3.7/dist-packages/seaborn/distributions.py:2557: FutureWarning: `distplot` is a deprecated function and will be removed in a future version. Please adapt your code to use either `displot` (a figure-level function with similar flexibility) or `histplot` (an axes-level function for histograms).\n",
            "  warnings.warn(msg, FutureWarning)\n"
          ],
          "name": "stderr"
        },
        {
          "output_type": "display_data",
          "data": {
            "image/png": "[encoded data removed]",
            "text/plain": [
              "<Figure size 1800x432 with 3 Axes>"
            ]
          },
          "metadata": {
            "tags": [],
            "needs_background": "light"
          }
        },
        {
          "output_type": "display_data",
          "data": {
            "image/png": "[encoded data removed]",
            "text/plain": [
              "<Figure size 1152x1008 with 2 Axes>"
            ]
          },
          "metadata": {
            "tags": [],
            "needs_background": "light"
          }
        }
      ]
    },
    {
      "cell_type": "markdown",
      "metadata": {
        "id": "nlJtJQxiMIU0"
      },
      "source": [
        "# 4a ii). Insights from Data"
      ]
    },
    {
      "cell_type": "code",
      "metadata": {
        "id": "5fWbwlh80Rfv"
      },
      "source": [
        "temp['TimeSt'] = pd.to_datetime(temp.TimeSt)"
      ],
      "execution_count": 23,
      "outputs": []
    },
    {
      "cell_type": "code",
      "metadata": {
        "colab": {
          "base_uri": "https://localhost:8080/",
          "height": 296
        },
        "id": "mlfl3Xo8Fylu",
        "outputId": "5f1ca458-5ae3-47a0-fa4c-79f3ac1679fb"
      },
      "source": [
        "cnts = temp.groupby(temp.TimeSt.dt.hour)['_ID'].count()\n",
        "cnts.plot()\n",
        "min_idx, max_idx = cnts.idxmin(), cnts.idxmax()\n",
        "(min_idx, cnts[min_idx]), (max_idx, cnts[max_idx])"
      ],
      "execution_count": 24,
      "outputs": [
        {
          "output_type": "execute_result",
          "data": {
            "text/plain": [
              "((5, 811), (1, 919))"
            ]
          },
          "metadata": {
            "tags": []
          },
          "execution_count": 24
        },
        {
          "output_type": "display_data",
          "data": {
            "image/png": "[encoded data removed]",
            "text/plain": [
              "<Figure size 432x288 with 1 Axes>"
            ]
          },
          "metadata": {
            "tags": [],
            "needs_background": "light"
          }
        }
      ]
    },
    {
      "cell_type": "code",
      "metadata": {
        "colab": {
          "base_uri": "https://localhost:8080/",
          "height": 296
        },
        "id": "hef3ozTe-v-m",
        "outputId": "4b8064e1-4b36-4dbd-e510-406221fadabd"
      },
      "source": [
        "unique_city_activity = temp.groupby(temp.TimeSt.dt.hour).agg({'City': 'nunique'})\n",
        "unique_city_activity.plot()\n",
        "# 7-7:59 Highest Activity, 10-10:59 Lowest Activity from unique cities\n",
        "# However, it generally follows the same trend as above"
      ],
      "execution_count": 25,
      "outputs": [
        {
          "output_type": "execute_result",
          "data": {
            "text/plain": [
              "<matplotlib.axes._subplots.AxesSubplot at 0x7f5111e6c310>"
            ]
          },
          "metadata": {
            "tags": []
          },
          "execution_count": 25
        },
        {
          "output_type": "display_data",
          "data": {
            "image/png": "[encoded data removed]",
            "text/plain": [
              "<Figure size 432x288 with 1 Axes>"
            ]
          },
          "metadata": {
            "tags": [],
            "needs_background": "light"
          }
        }
      ]
    },
    {
      "cell_type": "code",
      "metadata": {
        "colab": {
          "base_uri": "https://localhost:8080/"
        },
        "id": "niD2PLtgH-Sm",
        "outputId": "8f96ad57-8280-4bd9-ef91-5372931d02a7"
      },
      "source": [
        "city_activity_freq = temp.City.value_counts()\n",
        "major_activity_cities = city_activity_freq[city_activity_freq > (unique_city_activity.mean().values[0])]\n",
        "(major_activity_cities.shape[0] / city_activity_freq.shape[0]) * 100\n",
        "# Most of the activity comes from about top 3.35 % of cities"
      ],
      "execution_count": 26,
      "outputs": [
        {
          "output_type": "execute_result",
          "data": {
            "text/plain": [
              "3.353658536585366"
            ]
          },
          "metadata": {
            "tags": []
          },
          "execution_count": 26
        }
      ]
    },
    {
      "cell_type": "code",
      "metadata": {
        "colab": {
          "base_uri": "https://localhost:8080/"
        },
        "id": "ErPflTVoHlqJ",
        "outputId": "2d002dc2-df53-443c-a7c0-50e109d4db04"
      },
      "source": [
        "city_activity_freq[ city_activity_freq == city_activity_freq.quantile(q=0.01)].shape[0]\n",
        "# Bottom Cities"
      ],
      "execution_count": 27,
      "outputs": [
        {
          "output_type": "execute_result",
          "data": {
            "text/plain": [
              "243"
            ]
          },
          "metadata": {
            "tags": []
          },
          "execution_count": 27
        }
      ]
    },
    {
      "cell_type": "markdown",
      "metadata": {
        "id": "cpdnVTdcyFCE"
      },
      "source": [
        "# 4b) Pipeline Dependency\n",
        "\n",
        "## Solution"
      ]
    },
    {
      "cell_type": "code",
      "metadata": {
        "id": "S4gD_Wbjt2D4"
      },
      "source": [
        "from collections import deque\n",
        "\n",
        "def resolveDAG(starting_tasks, goal_task, graph):\n",
        "  output = []\n",
        "  completed_tasks = set()\n",
        "  queue = deque()\n",
        "  queue.append(goal_task)\n",
        "\n",
        "  for task in starting_tasks:  # Dependencies for starting tasks are completed\n",
        "    completed_depends = graph[task]\n",
        "    if completed_depends:      # iff there are dependencies\n",
        "      for cd in completed_depends:\n",
        "        completed_tasks.add(cd)\n",
        "\n",
        "  while queue:\n",
        "    prevTask = queue.popleft()\n",
        "    if prevTask not in completed_tasks: # only add to DAG if not completed\n",
        "      output.insert(0, str(prevTask))\n",
        "      completed_tasks.add(prevTask)\n",
        "    if prevTask not in starting_tasks:  # only resolve dependency iff not starting\n",
        "      dependencies = graph[prevTask]\n",
        "      queue.extend(dependencies)\n",
        "\n",
        "  print('->'.join(output))"
      ],
      "execution_count": 28,
      "outputs": []
    },
    {
      "cell_type": "markdown",
      "metadata": {
        "id": "3n1HUaJ6yc9r"
      },
      "source": [
        "Test Cases"
      ]
    },
    {
      "cell_type": "code",
      "metadata": {
        "colab": {
          "base_uri": "https://localhost:8080/"
        },
        "id": "1jCV0czaZMvm",
        "outputId": "8da7a7ee-1b4b-4520-ca80-70d9a5b0ae73"
      },
      "source": [
        "from collections import defaultdict\n",
        "\n",
        "relations = '''A->C\n",
        "B->C\n",
        "C->E\n",
        "E->F'''\n",
        "\n",
        "graph = defaultdict(list)\n",
        "for pair in relations.split('\\n'):\n",
        "  v,k = pair.split('->')\n",
        "  graph[k].append(v)\n",
        "\n",
        "graph\n",
        "\n",
        "#TC 1\n",
        "starting_tasks = {'A'}\n",
        "goal_task = 'F'\n",
        "resolveDAG(starting_tasks, goal_task, graph)\n",
        "\n",
        "#TC 2\n",
        "starting_tasks = {'A', 'C'}\n",
        "resolveDAG(starting_tasks, goal_task, graph)"
      ],
      "execution_count": 29,
      "outputs": [
        {
          "output_type": "stream",
          "text": [
            "B->A->C->E->F\n",
            "C->E->F\n"
          ],
          "name": "stdout"
        }
      ]
    },
    {
      "cell_type": "markdown",
      "metadata": {
        "id": "lVySPfdWZS7Q"
      },
      "source": [
        "## Final Submission"
      ]
    },
    {
      "cell_type": "code",
      "metadata": {
        "colab": {
          "base_uri": "https://localhost:8080/",
          "height": 106
        },
        "id": "RktfH7V_1Bkx",
        "outputId": "9a306a34-021e-42e8-9460-78775e3adb6b"
      },
      "source": [
        "!wget -q https://gist.githubusercontent.com/woozyking/f1d50e1fe1b3bf52e3748bc280cf941f/raw/2d582e0b6d2a55bd50289b4fb2889f321693e288/relations.txt\n",
        "\n",
        "relations = pd.read_csv('relations.txt', header=None, sep=r'->', names=['Dependency', 'Task'], engine='python')\n",
        "relations.head(2)"
      ],
      "execution_count": 30,
      "outputs": [
        {
          "output_type": "execute_result",
          "data": {
            "text/html": [
              "<div>\n",
              "<style scoped>\n",
              "    .dataframe tbody tr th:only-of-type {\n",
              "        vertical-align: middle;\n",
              "    }\n",
              "\n",
              "    .dataframe tbody tr th {\n",
              "        vertical-align: top;\n",
              "    }\n",
              "\n",
              "    .dataframe thead th {\n",
              "        text-align: right;\n",
              "    }\n",
              "</style>\n",
              "<table border=\"1\" class=\"dataframe\">\n",
              "  <thead>\n",
              "    <tr style=\"text-align: right;\">\n",
              "      <th></th>\n",
              "      <th>Dependency</th>\n",
              "      <th>Task</th>\n",
              "    </tr>\n",
              "  </thead>\n",
              "  <tbody>\n",
              "    <tr>\n",
              "      <th>0</th>\n",
              "      <td>97</td>\n",
              "      <td>102</td>\n",
              "    </tr>\n",
              "    <tr>\n",
              "      <th>1</th>\n",
              "      <td>75</td>\n",
              "      <td>31</td>\n",
              "    </tr>\n",
              "  </tbody>\n",
              "</table>\n",
              "</div>"
            ],
            "text/plain": [
              "   Dependency  Task\n",
              "0          97   102\n",
              "1          75    31"
            ]
          },
          "metadata": {
            "tags": []
          },
          "execution_count": 30
        }
      ]
    },
    {
      "cell_type": "code",
      "metadata": {
        "colab": {
          "base_uri": "https://localhost:8080/"
        },
        "id": "veBvpDJk2z83",
        "outputId": "a4d72f6f-6cba-4945-8105-9191beabc31a"
      },
      "source": [
        "!wget -q https://gist.githubusercontent.com/woozyking/f1d50e1fe1b3bf52e3748bc280cf941f/raw/2d582e0b6d2a55bd50289b4fb2889f321693e288/task_ids.txt\n",
        "\n",
        "graph = dict()\n",
        "with open('task_ids.txt', 'r') as f:\n",
        "  for task_id in f.readline().split(','):\n",
        "    graph[int(task_id)] = []\n",
        "\n",
        "for row in relations.itertuples():\n",
        "  graph[row.Task].append(row.Dependency)\n",
        "graph"
      ],
      "execution_count": 31,
      "outputs": [
        {
          "output_type": "execute_result",
          "data": {
            "text/plain": [
              "{16: [],\n",
              " 20: [100, 21, 73],\n",
              " 21: [],\n",
              " 31: [75, 102, 55],\n",
              " 36: [102],\n",
              " 37: [75, 102, 16, 55],\n",
              " 39: [],\n",
              " 41: [],\n",
              " 55: [62, 56],\n",
              " 56: [94],\n",
              " 62: [],\n",
              " 73: [39, 41],\n",
              " 75: [56],\n",
              " 94: [20],\n",
              " 97: [112, 20],\n",
              " 100: [39],\n",
              " 102: [97, 56, 94],\n",
              " 112: [41]}"
            ]
          },
          "metadata": {
            "tags": []
          },
          "execution_count": 31
        }
      ]
    },
    {
      "cell_type": "code",
      "metadata": {
        "colab": {
          "base_uri": "https://localhost:8080/"
        },
        "id": "WdVJ3Tyj1EwB",
        "outputId": "0d5902e5-c8e4-4ea7-efba-b90792a07206"
      },
      "source": [
        "starting_tasks = {73}\n",
        "goal_task = 36\n",
        "resolveDAG(starting_tasks, goal_task, graph)"
      ],
      "execution_count": 32,
      "outputs": [
        {
          "output_type": "stream",
          "text": [
            "73->21->100->20->112->94->56->97->102->36\n"
          ],
          "name": "stdout"
        }
      ]
    }
  ]
}